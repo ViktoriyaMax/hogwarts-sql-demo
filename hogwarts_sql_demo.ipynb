{
 "cells": [
  {
   "cell_type": "code",
   "execution_count": null,
   "id": "4489383a-2df0-4b0b-9791-2855624a4261",
   "metadata": {},
   "outputs": [],
   "source": [
    "%load_ext sql"
   ]
  },
  {
   "cell_type": "code",
   "execution_count": 25,
   "id": "317ffb1a-930a-4853-8f1d-0e0b89055be6",
   "metadata": {},
   "outputs": [],
   "source": [
    "%sql sqlite:///hogwarts.sqlite"
   ]
  },
  {
   "cell_type": "code",
   "execution_count": 27,
   "id": "467e1707-9e7c-43f3-88ca-626d002a6563",
   "metadata": {},
   "outputs": [],
   "source": [
    "import sql"
   ]
  },
  {
   "cell_type": "code",
   "execution_count": 35,
   "id": "20e823be-2c5a-493e-9d32-7c0e3b40cac8",
   "metadata": {},
   "outputs": [],
   "source": [
    "import prettytable"
   ]
  },
  {
   "cell_type": "code",
   "execution_count": 37,
   "id": "537a85f8-1c2f-49cb-8a64-95c77bb69371",
   "metadata": {},
   "outputs": [],
   "source": [
    "from sql import run"
   ]
  },
  {
   "cell_type": "code",
   "execution_count": 33,
   "id": "531e4d4f-98da-4dd3-8af1-0b842787215f",
   "metadata": {},
   "outputs": [],
   "source": [
    "run.style = prettytable.PLAIN_COLUMNS"
   ]
  },
  {
   "cell_type": "code",
   "execution_count": 41,
   "id": "c800a07a-8b9b-49f5-bf04-5aabf5699ab9",
   "metadata": {},
   "outputs": [
    {
     "name": "stdout",
     "output_type": "stream",
     "text": [
      " * sqlite:///hogwarts.sqlite\n",
      "Done.\n"
     ]
    },
    {
     "data": {
      "text/html": [
       "<table>\n",
       "    <thead>\n",
       "        <tr>\n",
       "            <th>name</th>\n",
       "        </tr>\n",
       "    </thead>\n",
       "    <tbody>\n",
       "        <tr>\n",
       "            <td>library</td>\n",
       "        </tr>\n",
       "        <tr>\n",
       "            <td>sqlite_sequence</td>\n",
       "        </tr>\n",
       "        <tr>\n",
       "            <td>characters</td>\n",
       "        </tr>\n",
       "    </tbody>\n",
       "</table>"
      ],
      "text/plain": [
       "[('library',), ('sqlite_sequence',), ('characters',)]"
      ]
     },
     "execution_count": 41,
     "metadata": {},
     "output_type": "execute_result"
    }
   ],
   "source": [
    "#Просмотр таблиц\n",
    "%%sql\n",
    "SELECT name FROM sqlite_master WHERE type='table';\n",
    "\n"
   ]
  },
  {
   "cell_type": "code",
   "execution_count": 45,
   "id": "f42eac7c-4d6b-471d-8889-6d41845183f1",
   "metadata": {},
   "outputs": [
    {
     "name": "stdout",
     "output_type": "stream",
     "text": [
      " * sqlite:///hogwarts.sqlite\n",
      "Done.\n"
     ]
    },
    {
     "data": {
      "text/html": [
       "<table>\n",
       "    <thead>\n",
       "        <tr>\n",
       "            <th>fname</th>\n",
       "            <th>lname</th>\n",
       "            <th>patronus</th>\n",
       "        </tr>\n",
       "    </thead>\n",
       "    <tbody>\n",
       "        <tr>\n",
       "            <td>Draco</td>\n",
       "            <td>Malfoy</td>\n",
       "            <td>None</td>\n",
       "        </tr>\n",
       "        <tr>\n",
       "            <td>Vincent</td>\n",
       "            <td>Crabbe</td>\n",
       "            <td>None</td>\n",
       "        </tr>\n",
       "        <tr>\n",
       "            <td>Gregory</td>\n",
       "            <td>Goyle</td>\n",
       "            <td>None</td>\n",
       "        </tr>\n",
       "        <tr>\n",
       "            <td>Lord</td>\n",
       "            <td>Voldemort</td>\n",
       "            <td>None</td>\n",
       "        </tr>\n",
       "    </tbody>\n",
       "</table>"
      ],
      "text/plain": [
       "[('Draco', 'Malfoy', None),\n",
       " ('Vincent', 'Crabbe', None),\n",
       " ('Gregory', 'Goyle', None),\n",
       " ('Lord', 'Voldemort', None)]"
      ]
     },
     "execution_count": 45,
     "metadata": {},
     "output_type": "execute_result"
    }
   ],
   "source": [
    "#Все персонажи без патронуса\n",
    "\n",
    "%%sql\n",
    "SELECT fname, lname, patronus FROM characters WHERE patronus IS NULL;\n"
   ]
  },
  {
   "cell_type": "code",
   "execution_count": 51,
   "id": "c4b2f212-2359-419e-97fb-868e292ce893",
   "metadata": {},
   "outputs": [
    {
     "name": "stdout",
     "output_type": "stream",
     "text": [
      " * sqlite:///hogwarts.sqlite\n",
      "Done.\n"
     ]
    },
    {
     "data": {
      "text/html": [
       "<table>\n",
       "    <thead>\n",
       "        <tr>\n",
       "            <th>fname</th>\n",
       "            <th>lname</th>\n",
       "            <th>patronus</th>\n",
       "        </tr>\n",
       "    </thead>\n",
       "    <tbody>\n",
       "        <tr>\n",
       "            <td>Harry</td>\n",
       "            <td>Potter</td>\n",
       "            <td>Stag</td>\n",
       "        </tr>\n",
       "        <tr>\n",
       "            <td>Hermione</td>\n",
       "            <td>Granger</td>\n",
       "            <td>Otter</td>\n",
       "        </tr>\n",
       "        <tr>\n",
       "            <td>Ron</td>\n",
       "            <td>Weasley</td>\n",
       "            <td>Jack Russell terrier</td>\n",
       "        </tr>\n",
       "        <tr>\n",
       "            <td>Albus</td>\n",
       "            <td>Dumbledore</td>\n",
       "            <td>Phoenix</td>\n",
       "        </tr>\n",
       "        <tr>\n",
       "            <td>Luna</td>\n",
       "            <td>Lovegood</td>\n",
       "            <td>Hare</td>\n",
       "        </tr>\n",
       "        <tr>\n",
       "            <td>Cedric</td>\n",
       "            <td>Diggory</td>\n",
       "            <td>Unknown</td>\n",
       "        </tr>\n",
       "        <tr>\n",
       "            <td>Severus</td>\n",
       "            <td>Snape</td>\n",
       "            <td>Doe</td>\n",
       "        </tr>\n",
       "    </tbody>\n",
       "</table>"
      ],
      "text/plain": [
       "[('Harry', 'Potter', 'Stag'),\n",
       " ('Hermione', 'Granger', 'Otter'),\n",
       " ('Ron', 'Weasley', 'Jack Russell terrier'),\n",
       " ('Albus', 'Dumbledore', 'Phoenix'),\n",
       " ('Luna', 'Lovegood', 'Hare'),\n",
       " ('Cedric', 'Diggory', 'Unknown'),\n",
       " ('Severus', 'Snape', 'Doe')]"
      ]
     },
     "execution_count": 51,
     "metadata": {},
     "output_type": "execute_result"
    }
   ],
   "source": [
    "#Все персонажи  с известным патронусом\n",
    "\n",
    "%%sql\n",
    "SELECT fname, lname, patronus\n",
    "FROM characters\n",
    "WHERE patronus IS NOT NULL;\n",
    "\n"
   ]
  },
  {
   "cell_type": "code",
   "execution_count": 47,
   "id": "d3eea9a9-8408-4c8a-b135-7e9e1048de05",
   "metadata": {},
   "outputs": [
    {
     "name": "stdout",
     "output_type": "stream",
     "text": [
      " * sqlite:///hogwarts.sqlite\n",
      "Done.\n"
     ]
    },
    {
     "data": {
      "text/html": [
       "<table>\n",
       "    <thead>\n",
       "        <tr>\n",
       "            <th>faculty</th>\n",
       "            <th>average_age</th>\n",
       "        </tr>\n",
       "    </thead>\n",
       "    <tbody>\n",
       "        <tr>\n",
       "            <td>Gryffindor</td>\n",
       "            <td>36.0</td>\n",
       "        </tr>\n",
       "        <tr>\n",
       "            <td>Hufflepuff</td>\n",
       "            <td>14.0</td>\n",
       "        </tr>\n",
       "        <tr>\n",
       "            <td>Ravenclaw</td>\n",
       "            <td>11.0</td>\n",
       "        </tr>\n",
       "        <tr>\n",
       "            <td>Slytherin</td>\n",
       "            <td>22.0</td>\n",
       "        </tr>\n",
       "    </tbody>\n",
       "</table>"
      ],
      "text/plain": [
       "[('Gryffindor', 36.0),\n",
       " ('Hufflepuff', 14.0),\n",
       " ('Ravenclaw', 11.0),\n",
       " ('Slytherin', 22.0)]"
      ]
     },
     "execution_count": 47,
     "metadata": {},
     "output_type": "execute_result"
    }
   ],
   "source": [
    "#Средний возраст по факультетам\n",
    "\n",
    "%%sql\n",
    "SELECT faculty, AVG(age) as average_age\n",
    "FROM characters\n",
    "WHERE age IS NOT NULL\n",
    "GROUP BY faculty;\n"
   ]
  },
  {
   "cell_type": "code",
   "execution_count": 49,
   "id": "7fa0650d-b586-4c98-8cea-16bde03f3f95",
   "metadata": {},
   "outputs": [
    {
     "name": "stdout",
     "output_type": "stream",
     "text": [
      " * sqlite:///hogwarts.sqlite\n",
      "Done.\n"
     ]
    },
    {
     "data": {
      "text/html": [
       "<table>\n",
       "    <thead>\n",
       "        <tr>\n",
       "            <th>fname</th>\n",
       "            <th>lname</th>\n",
       "            <th>books_read</th>\n",
       "        </tr>\n",
       "    </thead>\n",
       "    <tbody>\n",
       "        <tr>\n",
       "            <td>Lord</td>\n",
       "            <td>Voldemort</td>\n",
       "            <td>1</td>\n",
       "        </tr>\n",
       "        <tr>\n",
       "            <td>Severus</td>\n",
       "            <td>Snape</td>\n",
       "            <td>1</td>\n",
       "        </tr>\n",
       "        <tr>\n",
       "            <td>Cedric</td>\n",
       "            <td>Diggory</td>\n",
       "            <td>1</td>\n",
       "        </tr>\n",
       "        <tr>\n",
       "            <td>Luna</td>\n",
       "            <td>Lovegood</td>\n",
       "            <td>1</td>\n",
       "        </tr>\n",
       "        <tr>\n",
       "            <td>Albus</td>\n",
       "            <td>Dumbledore</td>\n",
       "            <td>1</td>\n",
       "        </tr>\n",
       "        <tr>\n",
       "            <td>Gregory</td>\n",
       "            <td>Goyle</td>\n",
       "            <td>1</td>\n",
       "        </tr>\n",
       "        <tr>\n",
       "            <td>Vincent</td>\n",
       "            <td>Crabbe</td>\n",
       "            <td>1</td>\n",
       "        </tr>\n",
       "        <tr>\n",
       "            <td>Draco</td>\n",
       "            <td>Malfoy</td>\n",
       "            <td>1</td>\n",
       "        </tr>\n",
       "        <tr>\n",
       "            <td>Ron</td>\n",
       "            <td>Weasley</td>\n",
       "            <td>1</td>\n",
       "        </tr>\n",
       "        <tr>\n",
       "            <td>Hermione</td>\n",
       "            <td>Granger</td>\n",
       "            <td>1</td>\n",
       "        </tr>\n",
       "        <tr>\n",
       "            <td>Harry</td>\n",
       "            <td>Potter</td>\n",
       "            <td>1</td>\n",
       "        </tr>\n",
       "    </tbody>\n",
       "</table>"
      ],
      "text/plain": [
       "[('Lord', 'Voldemort', 1),\n",
       " ('Severus', 'Snape', 1),\n",
       " ('Cedric', 'Diggory', 1),\n",
       " ('Luna', 'Lovegood', 1),\n",
       " ('Albus', 'Dumbledore', 1),\n",
       " ('Gregory', 'Goyle', 1),\n",
       " ('Vincent', 'Crabbe', 1),\n",
       " ('Draco', 'Malfoy', 1),\n",
       " ('Ron', 'Weasley', 1),\n",
       " ('Hermione', 'Granger', 1),\n",
       " ('Harry', 'Potter', 1)]"
      ]
     },
     "execution_count": 49,
     "metadata": {},
     "output_type": "execute_result"
    }
   ],
   "source": [
    "#Количеств книг на персонажа\n",
    "\n",
    "%%sql\n",
    "SELECT c.fname, c.lname, COUNT(l.book_name) as books_read\n",
    "FROM characters c\n",
    "JOIN library l ON c.char_id = l.char_id\n",
    "GROUP BY c.char_id\n",
    "ORDER BY books_read DESC;\n"
   ]
  },
  {
   "cell_type": "code",
   "execution_count": 53,
   "id": "e8345892-7f6c-4f24-a0e0-d47a08f4db04",
   "metadata": {},
   "outputs": [
    {
     "name": "stdout",
     "output_type": "stream",
     "text": [
      " * sqlite:///hogwarts.sqlite\n",
      "Done.\n"
     ]
    },
    {
     "data": {
      "text/html": [
       "<table>\n",
       "    <thead>\n",
       "        <tr>\n",
       "            <th>faculty</th>\n",
       "            <th>character_count</th>\n",
       "        </tr>\n",
       "    </thead>\n",
       "    <tbody>\n",
       "        <tr>\n",
       "            <td>Gryffindor</td>\n",
       "            <td>4</td>\n",
       "        </tr>\n",
       "        <tr>\n",
       "            <td>Hufflepuff</td>\n",
       "            <td>1</td>\n",
       "        </tr>\n",
       "        <tr>\n",
       "            <td>Ravenclaw</td>\n",
       "            <td>1</td>\n",
       "        </tr>\n",
       "        <tr>\n",
       "            <td>Slytherin</td>\n",
       "            <td>5</td>\n",
       "        </tr>\n",
       "    </tbody>\n",
       "</table>"
      ],
      "text/plain": [
       "[('Gryffindor', 4), ('Hufflepuff', 1), ('Ravenclaw', 1), ('Slytherin', 5)]"
      ]
     },
     "execution_count": 53,
     "metadata": {},
     "output_type": "execute_result"
    }
   ],
   "source": [
    "#Сколько персонажей на каждом факультете \n",
    "\n",
    "%%sql\n",
    "SELECT faculty, COUNT(*) AS character_count\n",
    "FROM characters\n",
    "GROUP BY faculty;\n"
   ]
  },
  {
   "cell_type": "code",
   "execution_count": 55,
   "id": "3071a9a0-1f01-4e16-9aa7-eedd81f9966a",
   "metadata": {},
   "outputs": [
    {
     "name": "stdout",
     "output_type": "stream",
     "text": [
      " * sqlite:///hogwarts.sqlite\n",
      "Done.\n"
     ]
    },
    {
     "data": {
      "text/html": [
       "<table>\n",
       "    <thead>\n",
       "        <tr>\n",
       "            <th>fname</th>\n",
       "            <th>lname</th>\n",
       "            <th>age</th>\n",
       "        </tr>\n",
       "    </thead>\n",
       "    <tbody>\n",
       "        <tr>\n",
       "            <td>Harry</td>\n",
       "            <td>Potter</td>\n",
       "            <td>11</td>\n",
       "        </tr>\n",
       "        <tr>\n",
       "            <td>Hermione</td>\n",
       "            <td>Granger</td>\n",
       "            <td>11</td>\n",
       "        </tr>\n",
       "        <tr>\n",
       "            <td>Ron</td>\n",
       "            <td>Weasley</td>\n",
       "            <td>11</td>\n",
       "        </tr>\n",
       "        <tr>\n",
       "            <td>Draco</td>\n",
       "            <td>Malfoy</td>\n",
       "            <td>11</td>\n",
       "        </tr>\n",
       "        <tr>\n",
       "            <td>Vincent</td>\n",
       "            <td>Crabbe</td>\n",
       "            <td>11</td>\n",
       "        </tr>\n",
       "    </tbody>\n",
       "</table>"
      ],
      "text/plain": [
       "[('Harry', 'Potter', 11),\n",
       " ('Hermione', 'Granger', 11),\n",
       " ('Ron', 'Weasley', 11),\n",
       " ('Draco', 'Malfoy', 11),\n",
       " ('Vincent', 'Crabbe', 11)]"
      ]
     },
     "execution_count": 55,
     "metadata": {},
     "output_type": "execute_result"
    }
   ],
   "source": [
    "#Самые молодые персонажи\n",
    "\n",
    "%%sql\n",
    "SELECT fname, lname, age\n",
    "FROM characters\n",
    "WHERE age IS NOT NULL\n",
    "ORDER BY age ASC\n",
    "LIMIT 5;\n"
   ]
  },
  {
   "cell_type": "code",
   "execution_count": 57,
   "id": "ac2d42e8-1a82-4543-be7a-13b9021dfe22",
   "metadata": {},
   "outputs": [
    {
     "name": "stdout",
     "output_type": "stream",
     "text": [
      " * sqlite:///hogwarts.sqlite\n",
      "Done.\n"
     ]
    },
    {
     "data": {
      "text/html": [
       "<table>\n",
       "    <thead>\n",
       "        <tr>\n",
       "            <th>fname</th>\n",
       "            <th>lname</th>\n",
       "            <th>books_read</th>\n",
       "        </tr>\n",
       "    </thead>\n",
       "    <tbody>\n",
       "        <tr>\n",
       "            <td>Lord</td>\n",
       "            <td>Voldemort</td>\n",
       "            <td>1</td>\n",
       "        </tr>\n",
       "        <tr>\n",
       "            <td>Severus</td>\n",
       "            <td>Snape</td>\n",
       "            <td>1</td>\n",
       "        </tr>\n",
       "        <tr>\n",
       "            <td>Cedric</td>\n",
       "            <td>Diggory</td>\n",
       "            <td>1</td>\n",
       "        </tr>\n",
       "        <tr>\n",
       "            <td>Luna</td>\n",
       "            <td>Lovegood</td>\n",
       "            <td>1</td>\n",
       "        </tr>\n",
       "        <tr>\n",
       "            <td>Albus</td>\n",
       "            <td>Dumbledore</td>\n",
       "            <td>1</td>\n",
       "        </tr>\n",
       "        <tr>\n",
       "            <td>Gregory</td>\n",
       "            <td>Goyle</td>\n",
       "            <td>1</td>\n",
       "        </tr>\n",
       "        <tr>\n",
       "            <td>Vincent</td>\n",
       "            <td>Crabbe</td>\n",
       "            <td>1</td>\n",
       "        </tr>\n",
       "        <tr>\n",
       "            <td>Draco</td>\n",
       "            <td>Malfoy</td>\n",
       "            <td>1</td>\n",
       "        </tr>\n",
       "        <tr>\n",
       "            <td>Ron</td>\n",
       "            <td>Weasley</td>\n",
       "            <td>1</td>\n",
       "        </tr>\n",
       "        <tr>\n",
       "            <td>Hermione</td>\n",
       "            <td>Granger</td>\n",
       "            <td>1</td>\n",
       "        </tr>\n",
       "        <tr>\n",
       "            <td>Harry</td>\n",
       "            <td>Potter</td>\n",
       "            <td>1</td>\n",
       "        </tr>\n",
       "    </tbody>\n",
       "</table>"
      ],
      "text/plain": [
       "[('Lord', 'Voldemort', 1),\n",
       " ('Severus', 'Snape', 1),\n",
       " ('Cedric', 'Diggory', 1),\n",
       " ('Luna', 'Lovegood', 1),\n",
       " ('Albus', 'Dumbledore', 1),\n",
       " ('Gregory', 'Goyle', 1),\n",
       " ('Vincent', 'Crabbe', 1),\n",
       " ('Draco', 'Malfoy', 1),\n",
       " ('Ron', 'Weasley', 1),\n",
       " ('Hermione', 'Granger', 1),\n",
       " ('Harry', 'Potter', 1)]"
      ]
     },
     "execution_count": 57,
     "metadata": {},
     "output_type": "execute_result"
    }
   ],
   "source": [
    "# Скольео книг прочитал каждый персонаж\n",
    "\n",
    "%%sql\n",
    "SELECT c.fname, c.lname, COUNT(l.book_name) AS books_read\n",
    "FROM characters c\n",
    "JOIN library l ON c.char_id = l.char_id\n",
    "GROUP BY c.char_id\n",
    "ORDER BY books_read DESC;\n"
   ]
  },
  {
   "cell_type": "code",
   "execution_count": 59,
   "id": "236daeb3-2a42-4f8d-b794-32476043b57a",
   "metadata": {},
   "outputs": [
    {
     "name": "stdout",
     "output_type": "stream",
     "text": [
      " * sqlite:///hogwarts.sqlite\n",
      "Done.\n"
     ]
    },
    {
     "data": {
      "text/html": [
       "<table>\n",
       "    <thead>\n",
       "        <tr>\n",
       "            <th>book_name</th>\n",
       "        </tr>\n",
       "    </thead>\n",
       "    <tbody>\n",
       "        <tr>\n",
       "            <td>Quidditch Through The Ages</td>\n",
       "        </tr>\n",
       "        <tr>\n",
       "            <td>Advanced Potion-Making</td>\n",
       "        </tr>\n",
       "        <tr>\n",
       "            <td>A History Of Magic</td>\n",
       "        </tr>\n",
       "        <tr>\n",
       "            <td>Magical Water Plants Of The Highland Rocks</td>\n",
       "        </tr>\n",
       "    </tbody>\n",
       "</table>"
      ],
      "text/plain": [
       "[('Quidditch Through The Ages',),\n",
       " ('Advanced Potion-Making',),\n",
       " ('A History Of Magic',),\n",
       " ('Magical Water Plants Of The Highland Rocks',)]"
      ]
     },
     "execution_count": 59,
     "metadata": {},
     "output_type": "execute_result"
    }
   ],
   "source": [
    "#Книги, которые читали студенты факультета 'Gryffindor'\n",
    "\n",
    "%%sql\n",
    "SELECT DISTINCT l.book_name\n",
    "FROM library l\n",
    "JOIN characters c ON l.char_id = c.char_id\n",
    "WHERE c.faculty = 'Gryffindor';\n"
   ]
  },
  {
   "cell_type": "code",
   "execution_count": 61,
   "id": "49d17438-02c5-49e8-af88-26d68f0a7471",
   "metadata": {},
   "outputs": [
    {
     "name": "stdout",
     "output_type": "stream",
     "text": [
      " * sqlite:///hogwarts.sqlite\n",
      "Done.\n"
     ]
    },
    {
     "data": {
      "text/html": [
       "<table>\n",
       "    <thead>\n",
       "        <tr>\n",
       "            <th>fname</th>\n",
       "            <th>lname</th>\n",
       "        </tr>\n",
       "    </thead>\n",
       "    <tbody>\n",
       "    </tbody>\n",
       "</table>"
      ],
      "text/plain": [
       "[]"
      ]
     },
     "execution_count": 61,
     "metadata": {},
     "output_type": "execute_result"
    }
   ],
   "source": [
    "# Персонажи, которые не прочитали ни одной книги\n",
    "\n",
    "%%sql\n",
    "SELECT c.fname, c.lname\n",
    "FROM characters c\n",
    "LEFT JOIN library l ON c.char_id = l.char_id\n",
    "WHERE l.book_name IS NULL;\n"
   ]
  },
  {
   "cell_type": "code",
   "execution_count": 63,
   "id": "ea328c77-53c8-4df0-8b76-bbfcba7b912e",
   "metadata": {},
   "outputs": [
    {
     "name": "stdout",
     "output_type": "stream",
     "text": [
      " * sqlite:///hogwarts.sqlite\n",
      "Done.\n"
     ]
    },
    {
     "data": {
      "text/html": [
       "<table>\n",
       "    <thead>\n",
       "        <tr>\n",
       "            <th>fname</th>\n",
       "            <th>lname</th>\n",
       "            <th>duplicates</th>\n",
       "        </tr>\n",
       "    </thead>\n",
       "    <tbody>\n",
       "    </tbody>\n",
       "</table>"
      ],
      "text/plain": [
       "[]"
      ]
     },
     "execution_count": 63,
     "metadata": {},
     "output_type": "execute_result"
    }
   ],
   "source": [
    "#Найти дубликаты по имени и фамилии\n",
    "\n",
    "%%sql\n",
    "SELECT fname, lname, COUNT(*) as duplicates\n",
    "FROM characters\n",
    "GROUP BY fname, lname\n",
    "HAVING COUNT(*) > 1;\n"
   ]
  },
  {
   "cell_type": "code",
   "execution_count": 65,
   "id": "a1b1f83f-d168-4858-852c-275f28b3d7ba",
   "metadata": {},
   "outputs": [
    {
     "name": "stdout",
     "output_type": "stream",
     "text": [
      " * sqlite:///hogwarts.sqlite\n",
      "Done.\n"
     ]
    },
    {
     "data": {
      "text/html": [
       "<table>\n",
       "    <thead>\n",
       "        <tr>\n",
       "            <th>fname</th>\n",
       "            <th>lname</th>\n",
       "            <th>age</th>\n",
       "            <th>faculty</th>\n",
       "        </tr>\n",
       "    </thead>\n",
       "    <tbody>\n",
       "        <tr>\n",
       "            <td>Lord</td>\n",
       "            <td>Voldemort</td>\n",
       "            <td>None</td>\n",
       "            <td>Slytherin</td>\n",
       "        </tr>\n",
       "    </tbody>\n",
       "</table>"
      ],
      "text/plain": [
       "[('Lord', 'Voldemort', None, 'Slytherin')]"
      ]
     },
     "execution_count": 65,
     "metadata": {},
     "output_type": "execute_result"
    }
   ],
   "source": [
    "#Проверка: у кого не указаны возраст или факультет\n",
    "\n",
    "%%sql\n",
    "SELECT fname, lname, age, faculty\n",
    "FROM characters\n",
    "WHERE age IS NULL OR faculty IS NULL;\n"
   ]
  },
  {
   "cell_type": "code",
   "execution_count": null,
   "id": "710adf52-bf24-404f-805c-e2d7f0bcb77d",
   "metadata": {},
   "outputs": [],
   "source": []
  }
 ],
 "metadata": {
  "kernelspec": {
   "display_name": "Python [conda env:base] *",
   "language": "python",
   "name": "conda-base-py"
  },
  "language_info": {
   "codemirror_mode": {
    "name": "ipython",
    "version": 3
   },
   "file_extension": ".py",
   "mimetype": "text/x-python",
   "name": "python",
   "nbconvert_exporter": "python",
   "pygments_lexer": "ipython3",
   "version": "3.12.4"
  }
 },
 "nbformat": 4,
 "nbformat_minor": 5
}
